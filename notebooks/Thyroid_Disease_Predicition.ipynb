{
 "cells": [
  {
   "cell_type": "markdown",
   "id": "5374cc37",
   "metadata": {},
   "source": [
    "### Thyroid_Disease_Predicition\n",
    "\n",
    "Problem Statement:\n",
    "\n",
    "Thyroid disease is a common cause of medical diagnosis and prediction, with an onset\n",
    "that is difficult to forecast in medical research. The thyroid gland is one of our body's\n",
    "most vital organs. Thyroid hormone releases are responsible for metabolic regulation.\n",
    "Hyperthyroidism and hypothyroidism are one of the two common diseases of the thyroid\n",
    "that releases thyroid hormones in regulating the rate of body's metabolism.\n",
    "\n",
    "The main goal is to predict the estimated risk on a patient's chance of obtaining thyroid\n",
    "disease or not."
   ]
  },
  {
   "cell_type": "code",
   "execution_count": 1,
   "id": "8359e3e3",
   "metadata": {},
   "outputs": [],
   "source": [
    "import pandas as pd\n",
    "import numpy"
   ]
  },
  {
   "cell_type": "code",
   "execution_count": 2,
   "id": "c089121f",
   "metadata": {},
   "outputs": [],
   "source": [
    "import pandas as pd\n",
    "import numpy as np\n",
    "import seaborn as sns\n",
    "#import dtale\n",
    "import matplotlib.pyplot as plt\n",
    "\n",
    "from sklearn.model_selection import train_test_split\n",
    "from sklearn.preprocessing import StandardScaler,MinMaxScaler,LabelEncoder\n",
    "\n",
    "import sklearn.impute\n",
    "\n",
    "from sklearn.ensemble import RandomForestClassifier\n",
    "\n",
    "import warnings\n",
    "warnings.filterwarnings('ignore')"
   ]
  },
  {
   "cell_type": "code",
   "execution_count": 3,
   "id": "10543a1e",
   "metadata": {},
   "outputs": [
    {
     "data": {
      "text/plain": [
       "Index(['age', 'sex', 'on_thyroxine', 'query_on_thyroxine',\n",
       "       'on_antithyroid_medication', 'sick', 'pregnant', 'thyroid_surgery',\n",
       "       'I131_treatment', 'query_hypothyroid', 'query_hyperthyroid', 'lithium',\n",
       "       'goitre', 'tumor', 'hypopituitary', 'psych', 'TSH_measured', 'TSH',\n",
       "       'T3_measured', 'T3', 'TT4_measured', 'TT4', 'T4U_measured', 'T4U',\n",
       "       'FTI_measured', 'FTI', 'TBG_measured', 'TBG', 'referral_source',\n",
       "       'Class'],\n",
       "      dtype='object')"
      ]
     },
     "execution_count": 3,
     "metadata": {},
     "output_type": "execute_result"
    }
   ],
   "source": [
    "data=pd.read_csv('hypothyroid.csv')\n",
    "data.columns"
   ]
  },
  {
   "cell_type": "code",
   "execution_count": 4,
   "id": "44747e7d",
   "metadata": {},
   "outputs": [
    {
     "name": "stdout",
     "output_type": "stream",
     "text": [
      "<class 'pandas.core.frame.DataFrame'>\n",
      "RangeIndex: 3772 entries, 0 to 3771\n",
      "Data columns (total 30 columns):\n",
      " #   Column                     Non-Null Count  Dtype \n",
      "---  ------                     --------------  ----- \n",
      " 0   age                        3772 non-null   object\n",
      " 1   sex                        3772 non-null   object\n",
      " 2   on_thyroxine               3772 non-null   object\n",
      " 3   query_on_thyroxine         3772 non-null   object\n",
      " 4   on_antithyroid_medication  3772 non-null   object\n",
      " 5   sick                       3772 non-null   object\n",
      " 6   pregnant                   3772 non-null   object\n",
      " 7   thyroid_surgery            3772 non-null   object\n",
      " 8   I131_treatment             3772 non-null   object\n",
      " 9   query_hypothyroid          3772 non-null   object\n",
      " 10  query_hyperthyroid         3772 non-null   object\n",
      " 11  lithium                    3772 non-null   object\n",
      " 12  goitre                     3772 non-null   object\n",
      " 13  tumor                      3772 non-null   object\n",
      " 14  hypopituitary              3772 non-null   object\n",
      " 15  psych                      3772 non-null   object\n",
      " 16  TSH_measured               3772 non-null   object\n",
      " 17  TSH                        3772 non-null   object\n",
      " 18  T3_measured                3772 non-null   object\n",
      " 19  T3                         3772 non-null   object\n",
      " 20  TT4_measured               3772 non-null   object\n",
      " 21  TT4                        3772 non-null   object\n",
      " 22  T4U_measured               3772 non-null   object\n",
      " 23  T4U                        3772 non-null   object\n",
      " 24  FTI_measured               3772 non-null   object\n",
      " 25  FTI                        3772 non-null   object\n",
      " 26  TBG_measured               3772 non-null   object\n",
      " 27  TBG                        3772 non-null   object\n",
      " 28  referral_source            3772 non-null   object\n",
      " 29  Class                      3772 non-null   object\n",
      "dtypes: object(30)\n",
      "memory usage: 884.2+ KB\n"
     ]
    }
   ],
   "source": [
    "data.info()"
   ]
  },
  {
   "cell_type": "code",
   "execution_count": 5,
   "id": "ef8fa218",
   "metadata": {},
   "outputs": [
    {
     "data": {
      "text/plain": [
       "f    3771\n",
       "t       1\n",
       "Name: hypopituitary, dtype: int64"
      ]
     },
     "execution_count": 5,
     "metadata": {},
     "output_type": "execute_result"
    }
   ],
   "source": [
    "data['hypopituitary'].value_counts()"
   ]
  },
  {
   "cell_type": "markdown",
   "id": "cde8ad18",
   "metadata": {},
   "source": [
    "All feature data types are object"
   ]
  },
  {
   "cell_type": "code",
   "execution_count": 6,
   "id": "22523368",
   "metadata": {},
   "outputs": [
    {
     "data": {
      "text/html": [
       "<div>\n",
       "<style scoped>\n",
       "    .dataframe tbody tr th:only-of-type {\n",
       "        vertical-align: middle;\n",
       "    }\n",
       "\n",
       "    .dataframe tbody tr th {\n",
       "        vertical-align: top;\n",
       "    }\n",
       "\n",
       "    .dataframe thead th {\n",
       "        text-align: right;\n",
       "    }\n",
       "</style>\n",
       "<table border=\"1\" class=\"dataframe\">\n",
       "  <thead>\n",
       "    <tr style=\"text-align: right;\">\n",
       "      <th></th>\n",
       "      <th>age</th>\n",
       "      <th>sex</th>\n",
       "      <th>on_thyroxine</th>\n",
       "      <th>query_on_thyroxine</th>\n",
       "      <th>on_antithyroid_medication</th>\n",
       "      <th>sick</th>\n",
       "      <th>pregnant</th>\n",
       "      <th>thyroid_surgery</th>\n",
       "      <th>I131_treatment</th>\n",
       "      <th>query_hypothyroid</th>\n",
       "      <th>...</th>\n",
       "      <th>TT4_measured</th>\n",
       "      <th>TT4</th>\n",
       "      <th>T4U_measured</th>\n",
       "      <th>T4U</th>\n",
       "      <th>FTI_measured</th>\n",
       "      <th>FTI</th>\n",
       "      <th>TBG_measured</th>\n",
       "      <th>TBG</th>\n",
       "      <th>referral_source</th>\n",
       "      <th>Class</th>\n",
       "    </tr>\n",
       "  </thead>\n",
       "  <tbody>\n",
       "    <tr>\n",
       "      <th>count</th>\n",
       "      <td>3772</td>\n",
       "      <td>3772</td>\n",
       "      <td>3772</td>\n",
       "      <td>3772</td>\n",
       "      <td>3772</td>\n",
       "      <td>3772</td>\n",
       "      <td>3772</td>\n",
       "      <td>3772</td>\n",
       "      <td>3772</td>\n",
       "      <td>3772</td>\n",
       "      <td>...</td>\n",
       "      <td>3772</td>\n",
       "      <td>3772</td>\n",
       "      <td>3772</td>\n",
       "      <td>3772</td>\n",
       "      <td>3772</td>\n",
       "      <td>3772</td>\n",
       "      <td>3772</td>\n",
       "      <td>3772</td>\n",
       "      <td>3772</td>\n",
       "      <td>3772</td>\n",
       "    </tr>\n",
       "    <tr>\n",
       "      <th>unique</th>\n",
       "      <td>94</td>\n",
       "      <td>3</td>\n",
       "      <td>2</td>\n",
       "      <td>2</td>\n",
       "      <td>2</td>\n",
       "      <td>2</td>\n",
       "      <td>2</td>\n",
       "      <td>2</td>\n",
       "      <td>2</td>\n",
       "      <td>2</td>\n",
       "      <td>...</td>\n",
       "      <td>2</td>\n",
       "      <td>242</td>\n",
       "      <td>2</td>\n",
       "      <td>147</td>\n",
       "      <td>2</td>\n",
       "      <td>235</td>\n",
       "      <td>1</td>\n",
       "      <td>1</td>\n",
       "      <td>5</td>\n",
       "      <td>4</td>\n",
       "    </tr>\n",
       "    <tr>\n",
       "      <th>top</th>\n",
       "      <td>59</td>\n",
       "      <td>F</td>\n",
       "      <td>f</td>\n",
       "      <td>f</td>\n",
       "      <td>f</td>\n",
       "      <td>f</td>\n",
       "      <td>f</td>\n",
       "      <td>f</td>\n",
       "      <td>f</td>\n",
       "      <td>f</td>\n",
       "      <td>...</td>\n",
       "      <td>t</td>\n",
       "      <td>?</td>\n",
       "      <td>t</td>\n",
       "      <td>?</td>\n",
       "      <td>t</td>\n",
       "      <td>?</td>\n",
       "      <td>f</td>\n",
       "      <td>?</td>\n",
       "      <td>other</td>\n",
       "      <td>negative</td>\n",
       "    </tr>\n",
       "    <tr>\n",
       "      <th>freq</th>\n",
       "      <td>95</td>\n",
       "      <td>2480</td>\n",
       "      <td>3308</td>\n",
       "      <td>3722</td>\n",
       "      <td>3729</td>\n",
       "      <td>3625</td>\n",
       "      <td>3719</td>\n",
       "      <td>3719</td>\n",
       "      <td>3713</td>\n",
       "      <td>3538</td>\n",
       "      <td>...</td>\n",
       "      <td>3541</td>\n",
       "      <td>231</td>\n",
       "      <td>3385</td>\n",
       "      <td>387</td>\n",
       "      <td>3387</td>\n",
       "      <td>385</td>\n",
       "      <td>3772</td>\n",
       "      <td>3772</td>\n",
       "      <td>2201</td>\n",
       "      <td>3481</td>\n",
       "    </tr>\n",
       "  </tbody>\n",
       "</table>\n",
       "<p>4 rows × 30 columns</p>\n",
       "</div>"
      ],
      "text/plain": [
       "         age   sex on_thyroxine query_on_thyroxine on_antithyroid_medication  \\\n",
       "count   3772  3772         3772               3772                      3772   \n",
       "unique    94     3            2                  2                         2   \n",
       "top       59     F            f                  f                         f   \n",
       "freq      95  2480         3308               3722                      3729   \n",
       "\n",
       "        sick pregnant thyroid_surgery I131_treatment query_hypothyroid  ...  \\\n",
       "count   3772     3772            3772           3772              3772  ...   \n",
       "unique     2        2               2              2                 2  ...   \n",
       "top        f        f               f              f                 f  ...   \n",
       "freq    3625     3719            3719           3713              3538  ...   \n",
       "\n",
       "       TT4_measured   TT4 T4U_measured   T4U FTI_measured   FTI TBG_measured  \\\n",
       "count          3772  3772         3772  3772         3772  3772         3772   \n",
       "unique            2   242            2   147            2   235            1   \n",
       "top               t     ?            t     ?            t     ?            f   \n",
       "freq           3541   231         3385   387         3387   385         3772   \n",
       "\n",
       "         TBG referral_source     Class  \n",
       "count   3772            3772      3772  \n",
       "unique     1               5         4  \n",
       "top        ?           other  negative  \n",
       "freq    3772            2201      3481  \n",
       "\n",
       "[4 rows x 30 columns]"
      ]
     },
     "execution_count": 6,
     "metadata": {},
     "output_type": "execute_result"
    }
   ],
   "source": [
    "data.describe()"
   ]
  },
  {
   "cell_type": "markdown",
   "id": "a21edf6f",
   "metadata": {},
   "source": [
    "# Data Preprocessing\n",
    "Seems some of the columns has '?' as empty values"
   ]
  },
  {
   "cell_type": "code",
   "execution_count": 7,
   "id": "dab01e15",
   "metadata": {
    "scrolled": true
   },
   "outputs": [],
   "source": [
    "# dtale.show(data)"
   ]
  },
  {
   "cell_type": "markdown",
   "id": "5bed39fa",
   "metadata": {},
   "source": [
    "Have to replace '?' to 'nan' to remove empty values,because dtypes of features are objects"
   ]
  },
  {
   "cell_type": "code",
   "execution_count": 8,
   "id": "6421f4fc",
   "metadata": {},
   "outputs": [
    {
     "name": "stdout",
     "output_type": "stream",
     "text": [
      "age 1\n",
      "sex 150\n",
      "TSH 369\n",
      "T3 769\n",
      "TT4 231\n",
      "T4U 387\n",
      "FTI 385\n",
      "TBG 3772\n"
     ]
    }
   ],
   "source": [
    "for column in data.columns:\n",
    "    count = data[column][data[column]=='?'].count()\n",
    "    if count != 0:\n",
    "        print(column, count)"
   ]
  },
  {
   "cell_type": "markdown",
   "id": "20d0352b",
   "metadata": {},
   "source": [
    "\"TBG\" has 37772 as null value it is good to drop and some columns too and unwanted columns 'TSH_measured','T3_measured','TT4_measured','T4U_measured','FTI_measured','TBG_measured'"
   ]
  },
  {
   "cell_type": "code",
   "execution_count": 9,
   "id": "934bd431",
   "metadata": {},
   "outputs": [],
   "source": [
    "data= data.drop(['TBG','TSH_measured','T3_measured','TT4_measured','T4U_measured','FTI_measured','TBG_measured'],axis =1)"
   ]
  },
  {
   "cell_type": "code",
   "execution_count": 10,
   "id": "c08d8a18",
   "metadata": {},
   "outputs": [
    {
     "name": "stdout",
     "output_type": "stream",
     "text": [
      "age 0\n",
      "sex 0\n",
      "on_thyroxine 0\n",
      "query_on_thyroxine 0\n",
      "on_antithyroid_medication 0\n",
      "sick 0\n",
      "pregnant 0\n",
      "thyroid_surgery 0\n",
      "I131_treatment 0\n",
      "query_hypothyroid 0\n",
      "query_hyperthyroid 0\n",
      "lithium 0\n",
      "goitre 0\n",
      "tumor 0\n",
      "hypopituitary 0\n",
      "psych 0\n",
      "TSH 0\n",
      "T3 0\n",
      "TT4 0\n",
      "T4U 0\n",
      "FTI 0\n",
      "referral_source 0\n",
      "Class 0\n"
     ]
    }
   ],
   "source": [
    "for column in data.columns:\n",
    "    count = data[column][data[column]=='?'].count()\n",
    "    if count!=0:\n",
    "        data[column] = data[column].replace('?',np.nan)\n",
    "for column in data.columns:\n",
    "    count = data[column][data[column]=='?'].count()\n",
    "    if count==0:\n",
    "        print(column, count)"
   ]
  },
  {
   "cell_type": "markdown",
   "id": "614d7d2b",
   "metadata": {},
   "source": [
    "'?' is replaced with 'Nan' Sucessfully"
   ]
  },
  {
   "cell_type": "code",
   "execution_count": 11,
   "id": "5ad74ed2",
   "metadata": {},
   "outputs": [
    {
     "data": {
      "text/plain": [
       "age                            1\n",
       "sex                          150\n",
       "on_thyroxine                   0\n",
       "query_on_thyroxine             0\n",
       "on_antithyroid_medication      0\n",
       "sick                           0\n",
       "pregnant                       0\n",
       "thyroid_surgery                0\n",
       "I131_treatment                 0\n",
       "query_hypothyroid              0\n",
       "query_hyperthyroid             0\n",
       "lithium                        0\n",
       "goitre                         0\n",
       "tumor                          0\n",
       "hypopituitary                  0\n",
       "psych                          0\n",
       "TSH                          369\n",
       "T3                           769\n",
       "TT4                          231\n",
       "T4U                          387\n",
       "FTI                          385\n",
       "referral_source                0\n",
       "Class                          0\n",
       "dtype: int64"
      ]
     },
     "execution_count": 11,
     "metadata": {},
     "output_type": "execute_result"
    }
   ],
   "source": [
    "data.isna().sum()"
   ]
  },
  {
   "cell_type": "markdown",
   "id": "acb282d0",
   "metadata": {},
   "source": [
    "## Replacing Categorical to numbers\n"
   ]
  },
  {
   "cell_type": "code",
   "execution_count": 12,
   "id": "4b0d504a",
   "metadata": {},
   "outputs": [],
   "source": [
    "data['sex'] = data['sex'].replace({'F' : 0, 'M' : 1})\n",
    "\n",
    "for column in data.columns:\n",
    "    if  len(data[column].unique())==2:\n",
    "        data[column] = data[column].replace({'f' : 0, 't' : 1})\n",
    "    elif len(data[column].unique())==1:\n",
    "        data[column] = data[column].replace({'f' : 0})\n",
    "\n",
    "data['referral_source'] = data['referral_source'].replace({'SVHC' : 1, 'SVI' : 2, 'STMW' : 3 , 'SVHD' :4 , 'other' :5})\n",
    "\n",
    "\n",
    "data['Class'] = data['Class'].replace({'negative' : 0, 'compensated_hypothyroid' : 1,'primary_hypothyroid' :2,'secondary_hypothyroid':3})\n",
    "\n",
    "data[\"Class\"] = data[\"Class\"].apply(lambda value : 1 if value >= 1 else 0)\n",
    "\n",
    "\n",
    "imputer=sklearn.impute.KNNImputer(n_neighbors=3, weights='uniform',missing_values=np.nan)\n",
    "new_array=imputer.fit_transform(data)\n",
    "data=pd.DataFrame(data=np.round(new_array), columns=data.columns)"
   ]
  },
  {
   "cell_type": "code",
   "execution_count": null,
   "id": "79ebf1e8",
   "metadata": {},
   "outputs": [],
   "source": []
  },
  {
   "cell_type": "markdown",
   "id": "f6c73ae0",
   "metadata": {},
   "source": [
    "#### As 'Class' has some imbalance.... we can add all Hypothyroid as (1) one and negative as (0) seperate  output"
   ]
  },
  {
   "cell_type": "code",
   "execution_count": 13,
   "id": "67aef343",
   "metadata": {},
   "outputs": [
    {
     "data": {
      "text/html": [
       "<div>\n",
       "<style scoped>\n",
       "    .dataframe tbody tr th:only-of-type {\n",
       "        vertical-align: middle;\n",
       "    }\n",
       "\n",
       "    .dataframe tbody tr th {\n",
       "        vertical-align: top;\n",
       "    }\n",
       "\n",
       "    .dataframe thead th {\n",
       "        text-align: right;\n",
       "    }\n",
       "</style>\n",
       "<table border=\"1\" class=\"dataframe\">\n",
       "  <thead>\n",
       "    <tr style=\"text-align: right;\">\n",
       "      <th></th>\n",
       "      <th>age</th>\n",
       "      <th>sex</th>\n",
       "      <th>on_thyroxine</th>\n",
       "      <th>query_on_thyroxine</th>\n",
       "      <th>on_antithyroid_medication</th>\n",
       "      <th>sick</th>\n",
       "      <th>pregnant</th>\n",
       "      <th>thyroid_surgery</th>\n",
       "      <th>I131_treatment</th>\n",
       "      <th>query_hypothyroid</th>\n",
       "      <th>...</th>\n",
       "      <th>tumor</th>\n",
       "      <th>hypopituitary</th>\n",
       "      <th>psych</th>\n",
       "      <th>TSH</th>\n",
       "      <th>T3</th>\n",
       "      <th>TT4</th>\n",
       "      <th>T4U</th>\n",
       "      <th>FTI</th>\n",
       "      <th>referral_source</th>\n",
       "      <th>Class</th>\n",
       "    </tr>\n",
       "  </thead>\n",
       "  <tbody>\n",
       "    <tr>\n",
       "      <th>3767</th>\n",
       "      <td>30.0</td>\n",
       "      <td>0.0</td>\n",
       "      <td>0.0</td>\n",
       "      <td>0.0</td>\n",
       "      <td>0.0</td>\n",
       "      <td>0.0</td>\n",
       "      <td>0.0</td>\n",
       "      <td>0.0</td>\n",
       "      <td>0.0</td>\n",
       "      <td>0.0</td>\n",
       "      <td>...</td>\n",
       "      <td>1.0</td>\n",
       "      <td>0.0</td>\n",
       "      <td>0.0</td>\n",
       "      <td>2.0</td>\n",
       "      <td>3.0</td>\n",
       "      <td>131.0</td>\n",
       "      <td>1.0</td>\n",
       "      <td>117.0</td>\n",
       "      <td>5.0</td>\n",
       "      <td>0.0</td>\n",
       "    </tr>\n",
       "    <tr>\n",
       "      <th>3768</th>\n",
       "      <td>68.0</td>\n",
       "      <td>0.0</td>\n",
       "      <td>0.0</td>\n",
       "      <td>0.0</td>\n",
       "      <td>0.0</td>\n",
       "      <td>0.0</td>\n",
       "      <td>0.0</td>\n",
       "      <td>0.0</td>\n",
       "      <td>0.0</td>\n",
       "      <td>0.0</td>\n",
       "      <td>...</td>\n",
       "      <td>0.0</td>\n",
       "      <td>0.0</td>\n",
       "      <td>0.0</td>\n",
       "      <td>1.0</td>\n",
       "      <td>2.0</td>\n",
       "      <td>124.0</td>\n",
       "      <td>1.0</td>\n",
       "      <td>114.0</td>\n",
       "      <td>2.0</td>\n",
       "      <td>0.0</td>\n",
       "    </tr>\n",
       "    <tr>\n",
       "      <th>3769</th>\n",
       "      <td>74.0</td>\n",
       "      <td>0.0</td>\n",
       "      <td>0.0</td>\n",
       "      <td>0.0</td>\n",
       "      <td>0.0</td>\n",
       "      <td>0.0</td>\n",
       "      <td>0.0</td>\n",
       "      <td>0.0</td>\n",
       "      <td>0.0</td>\n",
       "      <td>0.0</td>\n",
       "      <td>...</td>\n",
       "      <td>0.0</td>\n",
       "      <td>0.0</td>\n",
       "      <td>0.0</td>\n",
       "      <td>5.0</td>\n",
       "      <td>2.0</td>\n",
       "      <td>112.0</td>\n",
       "      <td>1.0</td>\n",
       "      <td>105.0</td>\n",
       "      <td>5.0</td>\n",
       "      <td>0.0</td>\n",
       "    </tr>\n",
       "    <tr>\n",
       "      <th>3770</th>\n",
       "      <td>72.0</td>\n",
       "      <td>1.0</td>\n",
       "      <td>0.0</td>\n",
       "      <td>0.0</td>\n",
       "      <td>0.0</td>\n",
       "      <td>0.0</td>\n",
       "      <td>0.0</td>\n",
       "      <td>0.0</td>\n",
       "      <td>0.0</td>\n",
       "      <td>0.0</td>\n",
       "      <td>...</td>\n",
       "      <td>0.0</td>\n",
       "      <td>0.0</td>\n",
       "      <td>0.0</td>\n",
       "      <td>1.0</td>\n",
       "      <td>2.0</td>\n",
       "      <td>82.0</td>\n",
       "      <td>1.0</td>\n",
       "      <td>87.0</td>\n",
       "      <td>2.0</td>\n",
       "      <td>0.0</td>\n",
       "    </tr>\n",
       "    <tr>\n",
       "      <th>3771</th>\n",
       "      <td>64.0</td>\n",
       "      <td>0.0</td>\n",
       "      <td>0.0</td>\n",
       "      <td>0.0</td>\n",
       "      <td>0.0</td>\n",
       "      <td>0.0</td>\n",
       "      <td>0.0</td>\n",
       "      <td>0.0</td>\n",
       "      <td>0.0</td>\n",
       "      <td>0.0</td>\n",
       "      <td>...</td>\n",
       "      <td>0.0</td>\n",
       "      <td>0.0</td>\n",
       "      <td>0.0</td>\n",
       "      <td>1.0</td>\n",
       "      <td>2.0</td>\n",
       "      <td>99.0</td>\n",
       "      <td>1.0</td>\n",
       "      <td>92.0</td>\n",
       "      <td>5.0</td>\n",
       "      <td>0.0</td>\n",
       "    </tr>\n",
       "  </tbody>\n",
       "</table>\n",
       "<p>5 rows × 23 columns</p>\n",
       "</div>"
      ],
      "text/plain": [
       "       age  sex  on_thyroxine  query_on_thyroxine  on_antithyroid_medication  \\\n",
       "3767  30.0  0.0           0.0                 0.0                        0.0   \n",
       "3768  68.0  0.0           0.0                 0.0                        0.0   \n",
       "3769  74.0  0.0           0.0                 0.0                        0.0   \n",
       "3770  72.0  1.0           0.0                 0.0                        0.0   \n",
       "3771  64.0  0.0           0.0                 0.0                        0.0   \n",
       "\n",
       "      sick  pregnant  thyroid_surgery  I131_treatment  query_hypothyroid  ...  \\\n",
       "3767   0.0       0.0              0.0             0.0                0.0  ...   \n",
       "3768   0.0       0.0              0.0             0.0                0.0  ...   \n",
       "3769   0.0       0.0              0.0             0.0                0.0  ...   \n",
       "3770   0.0       0.0              0.0             0.0                0.0  ...   \n",
       "3771   0.0       0.0              0.0             0.0                0.0  ...   \n",
       "\n",
       "      tumor  hypopituitary  psych  TSH   T3    TT4  T4U    FTI  \\\n",
       "3767    1.0            0.0    0.0  2.0  3.0  131.0  1.0  117.0   \n",
       "3768    0.0            0.0    0.0  1.0  2.0  124.0  1.0  114.0   \n",
       "3769    0.0            0.0    0.0  5.0  2.0  112.0  1.0  105.0   \n",
       "3770    0.0            0.0    0.0  1.0  2.0   82.0  1.0   87.0   \n",
       "3771    0.0            0.0    0.0  1.0  2.0   99.0  1.0   92.0   \n",
       "\n",
       "      referral_source  Class  \n",
       "3767              5.0    0.0  \n",
       "3768              2.0    0.0  \n",
       "3769              5.0    0.0  \n",
       "3770              2.0    0.0  \n",
       "3771              5.0    0.0  \n",
       "\n",
       "[5 rows x 23 columns]"
      ]
     },
     "execution_count": 13,
     "metadata": {},
     "output_type": "execute_result"
    }
   ],
   "source": [
    "data.tail()"
   ]
  },
  {
   "cell_type": "code",
   "execution_count": 14,
   "id": "7d613e57",
   "metadata": {},
   "outputs": [],
   "source": [
    "imputer=sklearn.impute.KNNImputer(n_neighbors=3, weights='uniform',missing_values=np.nan)\n",
    "new_array=imputer.fit_transform(data)\n",
    "data=pd.DataFrame(data=np.round(new_array), columns=data.columns)"
   ]
  },
  {
   "cell_type": "code",
   "execution_count": 15,
   "id": "55532021",
   "metadata": {},
   "outputs": [
    {
     "data": {
      "text/plain": [
       "age                          0\n",
       "sex                          0\n",
       "on_thyroxine                 0\n",
       "query_on_thyroxine           0\n",
       "on_antithyroid_medication    0\n",
       "sick                         0\n",
       "pregnant                     0\n",
       "thyroid_surgery              0\n",
       "I131_treatment               0\n",
       "query_hypothyroid            0\n",
       "query_hyperthyroid           0\n",
       "lithium                      0\n",
       "goitre                       0\n",
       "tumor                        0\n",
       "hypopituitary                0\n",
       "psych                        0\n",
       "TSH                          0\n",
       "T3                           0\n",
       "TT4                          0\n",
       "T4U                          0\n",
       "FTI                          0\n",
       "referral_source              0\n",
       "Class                        0\n",
       "dtype: int64"
      ]
     },
     "execution_count": 15,
     "metadata": {},
     "output_type": "execute_result"
    }
   ],
   "source": [
    "data.isnull().sum()"
   ]
  },
  {
   "cell_type": "code",
   "execution_count": 16,
   "id": "2accab12",
   "metadata": {},
   "outputs": [
    {
     "data": {
      "text/plain": [
       "0.0    3771\n",
       "1.0       1\n",
       "Name: hypopituitary, dtype: int64"
      ]
     },
     "execution_count": 16,
     "metadata": {},
     "output_type": "execute_result"
    }
   ],
   "source": [
    "data[\"hypopituitary\"].value_counts()"
   ]
  },
  {
   "cell_type": "markdown",
   "id": "bdadcf25",
   "metadata": {},
   "source": [
    "No null value"
   ]
  },
  {
   "cell_type": "markdown",
   "id": "d94bbbd4",
   "metadata": {},
   "source": [
    "# Feature Selection\n",
    "\n",
    "Seems some of the columns are not impacts on predicting output.As it the update data verson,previous versio n of the data has clear lables and records.As model concern feature selection has to be done......"
   ]
  },
  {
   "cell_type": "code",
   "execution_count": 17,
   "id": "46f725e3",
   "metadata": {},
   "outputs": [],
   "source": [
    "y=data[\"Class\"].copy()\n",
    "X=data.drop('Class',axis=1).copy()\n",
    "X_train,X_test,y_train,y_test=train_test_split(X,y,train_size=0.8,shuffle=True,random_state=123)"
   ]
  },
  {
   "cell_type": "code",
   "execution_count": 18,
   "id": "60057a3e",
   "metadata": {},
   "outputs": [
    {
     "data": {
      "text/plain": [
       "age                           91\n",
       "sex                            2\n",
       "on_thyroxine                   2\n",
       "query_on_thyroxine             2\n",
       "on_antithyroid_medication      2\n",
       "sick                           2\n",
       "pregnant                       2\n",
       "thyroid_surgery                2\n",
       "I131_treatment                 2\n",
       "query_hypothyroid              2\n",
       "query_hyperthyroid             2\n",
       "lithium                        2\n",
       "goitre                         2\n",
       "tumor                          2\n",
       "hypopituitary                  2\n",
       "psych                          2\n",
       "TSH                           86\n",
       "T3                            10\n",
       "TT4                          229\n",
       "T4U                            3\n",
       "FTI                          220\n",
       "referral_source                5\n",
       "dtype: int64"
      ]
     },
     "execution_count": 18,
     "metadata": {},
     "output_type": "execute_result"
    }
   ],
   "source": [
    "X_train.nunique()"
   ]
  },
  {
   "cell_type": "code",
   "execution_count": 19,
   "id": "34621684",
   "metadata": {
    "scrolled": true
   },
   "outputs": [
    {
     "name": "stdout",
     "output_type": "stream",
     "text": [
      "                Specs         Score\n",
      "16                TSH  77121.541469\n",
      "20                FTI   3757.920430\n",
      "18                TT4   3569.940747\n",
      "17                 T3     37.389572\n",
      "9   query_hypothyroid     26.338754\n",
      "2        on_thyroxine     21.736074\n",
      "1                 sex      7.381573\n",
      "6            pregnant      4.430623\n",
      "15              psych      2.929734\n",
      "12             goitre      2.842287\n"
     ]
    }
   ],
   "source": [
    "from sklearn.feature_selection import SelectKBest\n",
    "from sklearn.feature_selection import chi2\n",
    "bestfeatures = SelectKBest(score_func=chi2, k=10)\n",
    "fit = bestfeatures.fit(X,y)\n",
    "dfscores = pd.DataFrame(fit.scores_)\n",
    "dfcolumns = pd.DataFrame(X.columns)\n",
    "#concat two dataframes for better visualization \n",
    "featureScores = pd.concat([dfcolumns,dfscores],axis=1)\n",
    "featureScores.columns = ['Specs','Score']  #naming the dataframe columns\n",
    "print(featureScores.nlargest(10,'Score'))  #print 10 best features"
   ]
  },
  {
   "cell_type": "markdown",
   "id": "50213508",
   "metadata": {},
   "source": [
    "We are taking 1st 10 feature that make impact on output"
   ]
  },
  {
   "cell_type": "markdown",
   "id": "6856de15",
   "metadata": {},
   "source": [
    "# New Data by Feature Selection"
   ]
  },
  {
   "cell_type": "code",
   "execution_count": 20,
   "id": "c4fa7f2a",
   "metadata": {},
   "outputs": [],
   "source": [
    "new_data = data.filter(['TSH','FTI','TT4','T3','query_hypothyroid','on_thyroxine','sex','pregnant','psych','Class'])"
   ]
  },
  {
   "cell_type": "code",
   "execution_count": 21,
   "id": "b789eeda",
   "metadata": {},
   "outputs": [],
   "source": [
    "new_data.to_csv('new_Thyroid_data.csv', index=False)"
   ]
  },
  {
   "cell_type": "code",
   "execution_count": 22,
   "id": "23195ba8",
   "metadata": {},
   "outputs": [
    {
     "data": {
      "text/plain": [
       "0.0    3719\n",
       "1.0      53\n",
       "Name: pregnant, dtype: int64"
      ]
     },
     "execution_count": 22,
     "metadata": {},
     "output_type": "execute_result"
    }
   ],
   "source": [
    "new_data['pregnant'].value_counts()"
   ]
  },
  {
   "cell_type": "code",
   "execution_count": 23,
   "id": "2b7c7d7f",
   "metadata": {},
   "outputs": [],
   "source": [
    "#dtale.show(new_data)"
   ]
  },
  {
   "cell_type": "code",
   "execution_count": 24,
   "id": "9ff2b314",
   "metadata": {},
   "outputs": [],
   "source": [
    "y=new_data[\"Class\"].copy()\n",
    "X=new_data.drop('Class',axis=1).copy()\n",
    "X_train,X_test,y_train,y_test=train_test_split(X,y,train_size=0.8,shuffle=True,random_state=123)"
   ]
  },
  {
   "cell_type": "code",
   "execution_count": 25,
   "id": "3d878558",
   "metadata": {},
   "outputs": [
    {
     "data": {
      "text/plain": [
       "0.0    3481\n",
       "1.0     291\n",
       "Name: Class, dtype: int64"
      ]
     },
     "execution_count": 25,
     "metadata": {},
     "output_type": "execute_result"
    }
   ],
   "source": [
    "y.value_counts()"
   ]
  },
  {
   "cell_type": "markdown",
   "id": "35a988e9",
   "metadata": {},
   "source": [
    "### Seems imbalanced class,RandomOverSample is done to over come this"
   ]
  },
  {
   "cell_type": "code",
   "execution_count": 28,
   "id": "b71f4716",
   "metadata": {},
   "outputs": [],
   "source": [
    "from imblearn.over_sampling import RandomOverSampler\n",
    "\n",
    "os=RandomOverSampler(sampling_strategy='all')\n",
    "\n",
    "X_train_res,y_train_res=os.fit_resample(X_train,y_train)"
   ]
  },
  {
   "cell_type": "code",
   "execution_count": 38,
   "id": "b701518c",
   "metadata": {},
   "outputs": [
    {
     "data": {
      "text/plain": [
       "Counter({0.0: 2791, 1.0: 2791})"
      ]
     },
     "execution_count": 38,
     "metadata": {},
     "output_type": "execute_result"
    }
   ],
   "source": [
    "from collections import Counter\n",
    "Counter(y_train_res)"
   ]
  },
  {
   "cell_type": "code",
   "execution_count": null,
   "id": "77e974f0",
   "metadata": {},
   "outputs": [],
   "source": [
    "import joblib as jb"
   ]
  },
  {
   "cell_type": "code",
   "execution_count": null,
   "id": "d96b59de",
   "metadata": {},
   "outputs": [],
   "source": [
    "from sklearn.model_selection import GridSearchCV\n",
    "\n",
    "clf = GridSearchCV (rfc, forest_params, cv = 10, scoring='accuracy')\n",
    "clf.fit(X_train, y_train)"
   ]
  },
  {
   "cell_type": "code",
   "execution_count": null,
   "id": "e114e6ea",
   "metadata": {},
   "outputs": [],
   "source": [
    "print(clf.best_params_)\n",
    "\n",
    "print(clf.best_score_)"
   ]
  },
  {
   "cell_type": "code",
   "execution_count": null,
   "id": "87debadf",
   "metadata": {},
   "outputs": [],
   "source": [
    "X_train.shape,y_train.shape"
   ]
  },
  {
   "cell_type": "markdown",
   "id": "4d6b4742",
   "metadata": {},
   "source": [
    "Nearly 98% of accuracy"
   ]
  },
  {
   "cell_type": "code",
   "execution_count": null,
   "id": "81114d54",
   "metadata": {},
   "outputs": [],
   "source": [
    "model=RandomForestClassifier( n_estimators=150,\n",
    "                               criterion='gini',\n",
    "                               max_depth=10)\n",
    "model.fit(X_train,y_train)\n",
    "\n",
    "from sklearn.metrics import confusion_matrix,accuracy_score,classification_report\n",
    "y_pred=model.predict(X_test)\n",
    "cf_matrix=np.array(confusion_matrix(y_test,y_pred))\n",
    "print(cf_matrix)\n",
    "print(\"Accuracy Score {}\".format(accuracy_score(y_test,y_pred)))\n",
    "print(format(classification_report(y_test,y_pred)))"
   ]
  },
  {
   "cell_type": "code",
   "execution_count": null,
   "id": "d1b1ac3b",
   "metadata": {},
   "outputs": [],
   "source": [
    "y_pred=.predict([[12.0,87.0,99.0,2.0,1.0,0.0,0.0,0.0,0.0]])\n",
    "y_pred"
   ]
  },
  {
   "cell_type": "code",
   "execution_count": null,
   "id": "4c19121c",
   "metadata": {},
   "outputs": [],
   "source": [
    "import joblib as jb"
   ]
  },
  {
   "cell_type": "code",
   "execution_count": null,
   "id": "55e0384c",
   "metadata": {},
   "outputs": [],
   "source": []
  }
 ],
 "metadata": {
  "kernelspec": {
   "display_name": "Python 3 (ipykernel)",
   "language": "python",
   "name": "python3"
  },
  "language_info": {
   "codemirror_mode": {
    "name": "ipython",
    "version": 3
   },
   "file_extension": ".py",
   "mimetype": "text/x-python",
   "name": "python",
   "nbconvert_exporter": "python",
   "pygments_lexer": "ipython3",
   "version": "3.10.1"
  }
 },
 "nbformat": 4,
 "nbformat_minor": 5
}
